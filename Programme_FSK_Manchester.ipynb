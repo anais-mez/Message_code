{
 "cells": [
  {
   "cell_type": "markdown",
   "metadata": {},
   "source": [
    "# <center> Programme (FSK/Manchester)"
   ]
  },
  {
   "cell_type": "markdown",
   "metadata": {},
   "source": [
    "## I. Emission du message"
   ]
  },
  {
   "cell_type": "code",
   "execution_count": 33,
   "metadata": {},
   "outputs": [],
   "source": [
    "import matplotlib.pyplot as plt\n",
    "import numpy as np\n",
    "%matplotlib inline\n",
    "\n",
    "import sounddevice as sd\n",
    "import soundfile as sf"
   ]
  },
  {
   "cell_type": "markdown",
   "metadata": {},
   "source": [
    "### i. Entrée du message et conversion d'ASCII en binaire"
   ]
  },
  {
   "cell_type": "code",
   "execution_count": 34,
   "metadata": {},
   "outputs": [
    {
     "name": "stdout",
     "output_type": "stream",
     "text": [
      "Le message est ' Salut 'et en binaire cela donne :\n",
      "[0, 1, 0, 1, 0, 0, 1, 1, 0, 1, 1, 0, 0, 0, 0, 1, 0, 1, 1, 0, 1, 1, 0, 0, 0, 1, 1, 1, 0, 1, 0, 1, 0, 1, 1, 1, 0, 1, 0, 0]\n",
      "Sa taille est de 40 bits.\n"
     ]
    }
   ],
   "source": [
    "# Entrée du message à envoyer\n",
    "message_input = input(str(\"Entrez le message à transmetter :\"))\n",
    "\n",
    "# Conversion ASCII en binaire\n",
    "def toBinary(message):\n",
    "    l, m = [], []\n",
    "    for i in message:\n",
    "        l.append(ord(i))\n",
    "    for j in l:\n",
    "        m.append(str(bin(j)[2:]))\n",
    "    return m\n",
    "\n",
    "liste_message_bin = toBinary(message_input)\n",
    "\n",
    "# Déclaration de la liste des données encodées par Manchester\n",
    "message_input_bin = []\n",
    "\n",
    "# Séparation des valeurs binaires et injection dans la liste\n",
    "for i in range(0, len(liste_message_bin)):\n",
    "    k = [int(char) for char in liste_message_bin[i].zfill(8)]\n",
    "    message_input_bin.extend(k)\n",
    "\n",
    "print(\"Le message est '\", message_input, \"'et en binaire cela donne :\")\n",
    "print(message_input_bin)\n",
    "print(\"Sa taille est de\", len(message_input_bin), \"bits.\")"
   ]
  },
  {
   "cell_type": "markdown",
   "metadata": {},
   "source": [
    "### ii. Création du CRC à partir des données"
   ]
  },
  {
   "cell_type": "code",
   "execution_count": 35,
   "metadata": {},
   "outputs": [],
   "source": [
    "# # Déclaration de la fonction substraction_4bits qui a pour rôle de soustraire deux données binaires d'une taille de 4 bits\n",
    "# def substraction_4bits(bit1, bit2):\n",
    "#     bit_1_int = bin4ToInt(bit1)\n",
    "#     bit_2_int = bin4ToInt(bit2)\n",
    "#     bit_1_2_int = bit_1_int - bit_2_int\n",
    "#     bit_1_2_str,bit_1_2_bin = [],[]\n",
    "#     bit_1_2_bin = []\n",
    "#     bit_1_2_str.append(str(bin(bit_1_2_int)[2:].zfill(4)))\n",
    "#     for i in range(0,len(bit_1_2_str)):\n",
    "#         k = [int(char) for char in bit_1_2_str[i]]\n",
    "#         bit_1_2_bin.extend(k)\n",
    "#     return bit_1_2_bin    \n",
    "\n",
    "# # Déclaration de la fonction bin4ToInt ayant pour rôle de transformer une donnée binaire de 4 bits en une donnée décimale \n",
    "# def bin4ToInt(bit):\n",
    "#     intBin = bit[0]*(2**3)+bit[1]*(2**2)+bit[2]*(2**1)+bit[3]*(2**0)\n",
    "#     return intBin\n",
    "\n",
    "# # Déclaration de la fonction division_eucli ayant pour rôle de réaliser le division euclidienne de deux données binaires de\n",
    "# # 4 bits.\n",
    "# def division_eucli(diviseur, divisé):\n",
    "#     i = 0\n",
    "#     j = i+4\n",
    "#     sous_4bits = diviseur[i:j]\n",
    "#     diviseur_reste = substraction_4bits(sous_4bits,poly_G)\n",
    "#     print(\"La soustraction de\",sous_4bits,\"par\",poly_G,\"est égale à :\",diviseur_reste)\n",
    "#     for k in range(0,len(diviseur)-4):\n",
    "#         while True :\n",
    "#             if diviseur_reste[i] == 0:\n",
    "#                 diviseur_reste.pop(i)\n",
    "#                 diviseur_reste.append(diviseur[j+1])\n",
    "#             else:\n",
    "#                 break\n",
    "        \n",
    "#     return diviseur_reste\n",
    "        \n",
    "# poly_G = [1,0,0,1]\n",
    "# message_copie_bin = message_input_bin\n",
    "\n",
    "# if message_copie_bin[0] == 0:\n",
    "#     message_copie_bin.pop(0)\n",
    "    \n",
    "# print(division_eucli(message_copie_bin,poly_G))"
   ]
  },
  {
   "cell_type": "markdown",
   "metadata": {},
   "source": [
    "### iii. Insertion des données dans la trame"
   ]
  },
  {
   "cell_type": "code",
   "execution_count": 36,
   "metadata": {},
   "outputs": [
    {
     "name": "stdout",
     "output_type": "stream",
     "text": [
      "La taille de la trame avant données est de  32 bits.\n",
      "[0, 1, 0, 1, 0, 0, 1, 1, 0, 1, 1, 0, 0, 0, 0, 1, 0, 1, 1, 0, 1, 1, 0, 0, 0, 1, 1, 1, 0, 1, 0, 1, 0, 1, 1, 1, 0, 1, 0, 0]\n",
      "La taille de la trame avant données + données est de  72 bits.\n",
      "La taille de la trame est de  80 bits.\n",
      "La trame finale à encoder est donc : [0, 1, 1, 1, 1, 1, 1, 0, 1, 1, 1, 1, 1, 1, 1, 1, 0, 0, 0, 0, 0, 0, 1, 1, 0, 0, 0, 0, 0, 0, 0, 0, 0, 1, 0, 1, 0, 0, 1, 1, 0, 1, 1, 0, 0, 0, 0, 1, 0, 1, 1, 0, 1, 1, 0, 0, 0, 1, 1, 1, 0, 1, 0, 1, 0, 1, 1, 1, 0, 1, 0, 0, 0, 1, 1, 1, 1, 1, 1, 0]\n"
     ]
    }
   ],
   "source": [
    "# Déclaration de la liste correspondant à la trame\n",
    "trame_structure = []\n",
    "\n",
    "# Initialisation des listes correspondant aux éléments de la trame\n",
    "fanion = [0,1,1,1,1,1,1,0]\n",
    "adresse_D = [1,1,1,1,1,1,1,1]\n",
    "control = [0,0,0,0,0,0,1,1]\n",
    "protocol = [0,0,0,0,0,0,0,0]\n",
    "CRC = []                            # Non fonctionnel mais pas indispensable pour l'envoie du message\n",
    "\n",
    "# Injection dans l'ordre des élements de la trame avant les données dans la trame\n",
    "trame_structure.extend(fanion)\n",
    "trame_structure.extend(adresse_D)\n",
    "trame_structure.extend(control)\n",
    "trame_structure.extend(protocol)\n",
    "\n",
    "# affichage de la taille des élements avant données\n",
    "print(\"La taille de la trame avant données est de \",len(trame_structure),\"bits.\")\n",
    "\n",
    "# Injection des donées dans la trame\n",
    "print(message_input_bin)\n",
    "trame_structure.extend(message_input_bin)\n",
    "\n",
    "# affichage de la taille des élements avant données + données\n",
    "print(\"La taille de la trame avant données + données est de \",len(trame_structure),\"bits.\")\n",
    "\n",
    "# Injection dans l'ordre des élements de la trame après les données dans la trame\n",
    "#trame_structure.extend(CRC) Non ajouté car le programme pour créer le CRC n'est pas fonctionnelle\n",
    "trame_structure.extend(fanion)\n",
    "\n",
    "# affichage de la taille de la trame entière\n",
    "print(\"La taille de la trame est de \",len(trame_structure),\"bits.\")\n",
    "\n",
    "# Affichache de la trame\n",
    "print(\"La trame finale à encoder est donc :\",trame_structure)"
   ]
  },
  {
   "cell_type": "markdown",
   "metadata": {},
   "source": [
    "### iv. Encodage Manchester du message"
   ]
  },
  {
   "cell_type": "code",
   "execution_count": 37,
   "metadata": {},
   "outputs": [
    {
     "name": "stdout",
     "output_type": "stream",
     "text": [
      "Le message ' Salut 'encodé Manchester donne :\n",
      "[1, -1, -1, 1, -1, 1, -1, 1, -1, 1, -1, 1, -1, 1, 1, -1, -1, 1, -1, 1, -1, 1, -1, 1, -1, 1, -1, 1, -1, 1, -1, 1, 1, -1, 1, -1, 1, -1, 1, -1, 1, -1, 1, -1, -1, 1, -1, 1, 1, -1, 1, -1, 1, -1, 1, -1, 1, -1, 1, -1, 1, -1, 1, -1, 1, -1, -1, 1, 1, -1, -1, 1, 1, -1, 1, -1, -1, 1, -1, 1, 1, -1, -1, 1, -1, 1, 1, -1, 1, -1, 1, -1, 1, -1, -1, 1, 1, -1, -1, 1, -1, 1, 1, -1, -1, 1, -1, 1, 1, -1, 1, -1, 1, -1, -1, 1, -1, 1, -1, 1, 1, -1, -1, 1, 1, -1, -1, 1, 1, -1, -1, 1, -1, 1, -1, 1, 1, -1, -1, 1, 1, -1, 1, -1, 1, -1, -1, 1, -1, 1, -1, 1, -1, 1, -1, 1, -1, 1, 1, -1]\n",
      "Sa taille est de  160 bits.\n"
     ]
    }
   ],
   "source": [
    "# Déclaration de la liste des données encodées par Manchester\n",
    "message_input_encode = []\n",
    "\n",
    "# Encodage des valeurs binaires et injection dans la liste\n",
    "for i in range(0, len(trame_structure)):\n",
    "    if trame_structure[i] == 1:\n",
    "        message_input_encode.extend([-1, 1])\n",
    "    elif trame_structure[i] == 0:\n",
    "        message_input_encode.extend([1, -1])\n",
    "\n",
    "print(\"Le message '\", message_input, \"'encodé Manchester donne :\")\n",
    "print(message_input_encode)\n",
    "print(\"Sa taille est de \",len(message_input_encode),\"bits.\")"
   ]
  },
  {
   "cell_type": "markdown",
   "metadata": {},
   "source": [
    "### v. Modulation FSK"
   ]
  },
  {
   "cell_type": "code",
   "execution_count": 38,
   "metadata": {},
   "outputs": [],
   "source": [
    "# Génération des 2 porteuse P1 pour le bit 1 et P2 pour le bit 0\n",
    "A1 = 1                                 # Amplitude de la porteuse 1 du bit 1                           \n",
    "A2 = 1                                 # Amplitude de la porteuse 2 du bit 0\n",
    "fp1 = 18000                             # fréquence de la porteuse du bit 1\n",
    "fp2 = 21000                             # fréquence de la porteuse porteuse du bit 0\n",
    "Fe = 44100                             # Fréquence d'échantillonnage\n",
    "\n",
    "baud = int(60)                         # Débit souhaité sur le canal de transmission exprimé en bit/s\n",
    "Nbits = int(len(message_input_encode)) # Nombre de bits initial (taille du message M)\n",
    "Ns = int(Fe/baud)                      # Nombre de symboles par bit (Fréq d'echan / Débit binaire) \n",
    "N = int(Nbits*Ns)                      # Nombre de bits total à moduler (Nombre de symboles par bit * Nombre de bits"
   ]
  },
  {
   "cell_type": "code",
   "execution_count": 39,
   "metadata": {},
   "outputs": [
    {
     "data": {
      "image/png": "[encoded data removed]",
      "text/plain": [
       "<Figure size 1000x600 with 1 Axes>"
      ]
     },
     "metadata": {},
     "output_type": "display_data"
    },
    {
     "data": {
      "image/png": "[encoded data removed]",
      "text/plain": [
       "<Figure size 1000x600 with 1 Axes>"
      ]
     },
     "metadata": {},
     "output_type": "display_data"
    }
   ],
   "source": [
    "# On génère le message binaire dupliqué\n",
    "message_encode_duplique = np.repeat(message_input_encode, Ns)     # On peut aussi le faire avec la focntion tile de numpy : binaire = np.tile(bits,(1,Ns))\n",
    "\n",
    "# On génère le vecteur temps t1\n",
    "t1= np.linspace (0.0,Ns/Fe,Ns)   \n",
    "\n",
    "# On génère le vecteur temps t\n",
    "t= np.linspace (0.0,N/Fe,N)      \n",
    "\n",
    "P1 = A1*np.sin(2*np.pi*fp1*t1)       # porteuse du bit  1  \n",
    "P2 = A2*np.sin(2*np.pi*fp2*t1)       # Porteuse du bits 0\n",
    "\n",
    "# On réalise la modulation FSK\n",
    "FSK = []\n",
    "\n",
    "for n in range(0,len(message_input_encode)):\n",
    "    if (message_input_encode[n] == 1):\n",
    "        FSK.extend(P1)\n",
    "    if (message_input_encode[n] == -1):\n",
    "        FSK.extend(P2)\n",
    "    \n",
    "# Affichage du Message binaire, la porteuse et le résultat de la modulation ASK\n",
    "plt.figure (figsize = (10,6))\n",
    "plt.plot(t,message_encode_duplique) \n",
    "plt.xlabel('Temps [s]')\n",
    "plt.title('Message binaire')\n",
    "\n",
    "plt.figure (figsize = (10,6))\n",
    "plt.plot(t,FSK)\n",
    "plt.xlabel('Temps [s]')\n",
    "plt.title('Modulation FSK')\n",
    "\n",
    "plt.show()"
   ]
  },
  {
   "cell_type": "markdown",
   "metadata": {},
   "source": [
    "### vi. Enregistrement et simulation du signal sonore"
   ]
  },
  {
   "cell_type": "code",
   "execution_count": 40,
   "metadata": {},
   "outputs": [],
   "source": [
    "sd.play(FSK)\n",
    "sd.wait()\n",
    "\n",
    "sf.write(\"modulation_FSK.wav\", FSK, 44100)"
   ]
  },
  {
   "cell_type": "markdown",
   "metadata": {},
   "source": [
    "## II. Réception du signal"
   ]
  },
  {
   "cell_type": "markdown",
   "metadata": {},
   "source": [
    "### i. Ouverture du fichier"
   ]
  },
  {
   "cell_type": "code",
   "execution_count": 41,
   "metadata": {},
   "outputs": [
    {
     "name": "stdout",
     "output_type": "stream",
     "text": [
      "La modulation a une durée de : 2.6666666666666665 secondes\n"
     ]
    },
    {
     "data": {
      "image/png": "[encoded data removed]",
      "text/plain": [
       "<Figure size 1000x600 with 1 Axes>"
      ]
     },
     "metadata": {},
     "output_type": "display_data"
    }
   ],
   "source": [
    "# Initialisation du nom du fichier son\n",
    "filename = 'modulation_FSK.wav'\n",
    "\n",
    "# Lecture du fichier son\n",
    "data, Fe = sf.read(filename)\n",
    "\n",
    "# Calcul de la durée du son \n",
    "Duree_son = len(data)/Fe\n",
    "print('La modulation a une durée de :', Duree_son, 'secondes')\n",
    "\n",
    "# Génération du vecteur temps\n",
    "t_son = np.arange(0.0,N/Fe,1/Fe)             # Vecteur temps\n",
    "\n",
    "# Tracer les données\n",
    "plt.figure(figsize=(10,6))  # Créer une figure de taille 10cm x 6cm\n",
    "plt.plot(t_son, data[:],'b')\n",
    "plt.grid()\n",
    "plt.xlabel(\"Temps(s)\")\n",
    "plt.ylabel(\"Amplitude $x(t)$\")\n",
    "plt.show()"
   ]
  },
  {
   "cell_type": "markdown",
   "metadata": {},
   "source": [
    "### ii. Démodulation d'amplitude (ASK)"
   ]
  },
  {
   "cell_type": "code",
   "execution_count": 42,
   "metadata": {},
   "outputs": [],
   "source": [
    "baud = int(60)                      # Débit souhaité sur le canal de transmission exprimé en bit/s\n",
    "Nbits = int(len(data))              # Nombre de bits initial (taille du message M)\n",
    "Ns = int(Fe/baud)                   # Nombre de symboles par bit (Fréq d'echan / Débit binaire) \n",
    "N= len(data)\n",
    "\n",
    "fp1= 18000\n",
    "fp2 = 21000\n",
    "D = N/Fe"
   ]
  },
  {
   "cell_type": "code",
   "execution_count": 43,
   "metadata": {},
   "outputs": [
    {
     "name": "stdout",
     "output_type": "stream",
     "text": [
      "Voici les données que l'on reçoit du fichier son ouvert:\n",
      " [0.0017654841840033212, 5.926468247274095e-06, 5.9264682472744e-06, 0.001765484184004146, 5.926468247267055e-06, 0.0017654841840042351, 5.926468247252967e-06, 0.0017654841840049253, 5.9264682470526605e-06, 0.0017654841840069662, 5.926468247334736e-06, 0.001765484184008548, 5.926468247305212e-06, 0.0017654841840093825, 0.001765484184007746, 5.9264682469034675e-06, 5.926468247520399e-06, 0.0017654841840081784, 5.926468247163554e-06, 0.001765484184008722, 5.926468247202511e-06, 0.0017654841840107453, 5.92646824752853e-06, 0.0017654841840126837, 5.926468247680197e-06, 0.0017654841840136722, 5.926468247285534e-06, 0.0017654841840131813, 5.926468247052071e-06, 0.0017654841840124271, 5.926468245866638e-06, 0.001765484184012979, 0.0017654841840159174, 5.926468247637513e-06, 0.001765484184014686, 5.926468247039311e-06, 0.00176548418401464, 5.926468246090736e-06, 0.0017654841840161343, 5.926468246128737e-06, 0.0017654841840174947, 5.926468245828041e-06, 0.0017654841840193639, 5.926468246986416e-06, 5.9264682489176034e-06, 0.0017654841840187472, 5.926468247454913e-06, 0.0017654841840202009, 0.0017654841840186845, 5.9264682471697814e-06, 0.0017654841840201172, 5.926468248585804e-06, 0.001765484184021833, 5.92646824862432e-06, 0.001765484184022942, 5.926468248794648e-06, 0.0017654841840240537, 5.92646824830303e-06, 0.001765484184023857, 5.926468248908313e-06, 0.0017654841840235944, 5.926468247157733e-06, 0.001765484184023286, 5.926468248115267e-06, 0.0017654841840263054, 5.926468249165472e-06, 5.926468247899599e-06, 0.0017654841840246509, 0.001765484184027951, 5.926468246152095e-06, 5.926468245829396e-06, 0.001765484184029148, 0.001765484184026148, 5.926468250229163e-06, 0.0017654841840280485, 5.926468246657604e-06, 5.9264682471360695e-06, 0.001765484184028449, 5.926468247337718e-06, 0.0017654841840301133, 0.0017654841840324146, 5.926468246064214e-06, 5.926468248434734e-06, 0.0017654841840324762, 5.926468248418877e-06, 0.001765484184033437, 0.0017654841840323275, 5.926468246502333e-06, 0.0017654841840335814, 5.926468248894869e-06, 0.00176548418403733, 5.926468249201393e-06, 0.0017654841840368447, 5.926468247532752e-06, 5.92646824456548e-06, 0.0017654841840373913, 0.0017654841840355135, 5.926468248445291e-06, 5.926468246317544e-06, 0.0017654841840372584, 5.926468246926622e-06, 0.001765484184039325, 0.0017654841840394806, 5.926468246389935e-06, 5.926468247610632e-06, 0.0017654841840385749, 5.926468249110686e-06, 0.0017654841840408911, 0.0017654841840397345, 5.926468245708365e-06, 0.0017654841840400285, 5.9264682469524125e-06, 0.001765484184043076, 5.926468247274061e-06, 5.926468248223287e-06, 0.0017654841840426668, 5.926468246385639e-06, 0.0017654841840428648, 5.9264682478057744e-06, 0.0017654841840445982, 0.0017654841840450577, 5.9264682453736786e-06, 5.9264682456747615e-06, 0.0017654841840477242, 0.0017654841840473745, 5.926468249553556e-06, 5.926468245633284e-06, 0.0017654841840445104, 0.0017654841840494373, 5.9264682467655434e-06, 5.9264682481110925e-06, 0.001765484184048878, 5.92646824848355e-06, 0.0017654841840507275, 5.92646824910187e-06, 0.0017654841840517301, 0.0017654841840509974, 5.926468244922454e-06, 5.926468247868021e-06, 0.0017654841840470208, 0.0017654841840539978, 5.926468244624861e-06, 0.0017654841840526922, 5.926468248270064e-06, 0.0017654841840560895, 5.926468248833015e-06, 5.926468247967592e-06, 0.0017654841840556016, 5.926468243901312e-06, 0.0017654841840537804, 5.92646824979084e-06, 0.0017654841840531253, 5.926468245984498e-06, 0.0017654841840553156, 5.926468243274263e-06, 0.0017654841840568356, 5.9264682455315655e-06, 0.0017654841840577366, 0.001765484184055793, 5.926468246961154e-06] \n",
      " et sa taille 160 en bits.\n",
      "\n",
      "Voici les données que l'on reçoit du fichier son ouvert:\n",
      " [-6.160184207513543e-06, 0.00040886440701005814, 0.00040886440700930527, -6.160184207536589e-06, 0.00040886440700785417, -6.1601842074689995e-06, 0.0004088644070063892, -6.160184207534265e-06, 0.00040886440700509813, -6.160184207353285e-06, 0.0004088644070033231, -6.160184207460404e-06, 0.0004088644070019548, -6.160184207405167e-06, -6.160184206830892e-06, 0.0004088644069992517, 0.00040886440699877333, -6.1601842072690896e-06, 0.00040886440699736473, -6.1601842072298685e-06, 0.0004088644069964358, -6.160184207383778e-06, 0.0004088644069952397, -6.160184207273596e-06, 0.0004088644069935648, -6.160184207256892e-06, 0.00040886440699194415, -6.160184207088651e-06, 0.0004088644069901179, -6.160184207465371e-06, 0.0004088644069892033, -6.160184206288412e-06, -6.160184207290587e-06, 0.0004088644069868562, -6.16018420657889e-06, 0.00040886440698532445, -6.160184206194757e-06, 0.0004088644069834787, -6.160184204046949e-06, 0.0004088644069818355, -6.16018420436565e-06, 0.00040886440698038005, -6.160184204972285e-06, 0.0004088644069783903, 0.000408864406978118, -6.160184207776374e-06, 0.00040886440697714653, -6.1601842064200474e-06, -6.160184208039185e-06, 0.0004088644069752145, -6.160184209182564e-06, 0.00040886440697373606, -6.160184209429999e-06, 0.00040886440697210065, -6.160184209154382e-06, 0.00040886440697070116, -6.160184208009657e-06, 0.00040886440696866243, -6.160184208050054e-06, 0.00040886440696684227, -6.160184207744231e-06, 0.00040886440696617657, -6.160184207883954e-06, 0.0004088644069638707, -6.160184206975054e-06, 0.000408864406963751, 0.0004088644069631881, -6.1601842019607e-06, -6.160184209923271e-06, 0.0004088644069622006, 0.000408864406960501, -6.160184205869354e-06, -6.160184207395203e-06, 0.0004088644069584514, -6.160184208981729e-06, 0.0004088644069549824, 0.00040886440695480806, -6.160184209999138e-06, 0.0004088644069518291, -6.160184208949298e-06, -6.1601842053118e-06, 0.00040886440695231483, 0.0004088644069488098, -6.160184207957778e-06, 0.00040886440694988795, -6.160184209730191e-06, -6.160184203621027e-06, 0.0004088644069479234, -6.1601842085495865e-06, 0.0004088644069461674, -6.160184209484091e-06, 0.00040886440694482993, -6.160184209005073e-06, 0.00040886440694198195, 0.0004088644069405608, -6.160184203207587e-06, -6.1601842110983154e-06, 0.0004088644069384917, 0.0004088644069373151, -6.160184207157366e-06, 0.00040886440693699505, -6.160184206672568e-06, -6.160184205920925e-06, 0.00040886440693617713, 0.00040886440693418784, -6.160184206663366e-06, 0.00040886440693385694, -6.1601842113191674e-06, -6.16018420096506e-06, 0.00040886440693093436, -6.1601842051279936e-06, 0.00040886440693055186, -6.160184205360701e-06, 0.00040886440692752043, 0.0004088644069272481, -6.1601842079030565e-06, 0.00040886440692386884, -6.160184205063761e-06, 0.0004088644069242175, -6.160184203503381e-06, -6.160184207696292e-06, 0.0004088644069229724, 0.0004088644069208166, -6.1601842038858435e-06, -6.160184211848956e-06, 0.00040886440691583273, 0.0004088644069177136, -6.160184205085574e-06, -6.1601842058509125e-06, 0.00040886440691779427, 0.00040886440691640866, -6.160184207752193e-06, 0.00040886440691103145, -6.160184210042973e-06, 0.00040886440691395966, -6.160184209620111e-06, -6.160184203902357e-06, 0.0004088644069100765, 0.0004088644069093167, -6.160184208635621e-06, -6.16018420362864e-06, 0.00040886440690688936, -6.160184204827168e-06, 0.0004088644069097742, -6.160184206444178e-06, 0.00040886440690364196, 0.00040886440690336657, -6.160184204788787e-06, 0.0004088644069005017, -6.160184205520007e-06, 0.00040886440690467976, -6.160184201189843e-06, 0.0004088644068992197, -6.160184204150941e-06, 0.00040886440689538294, -6.160184205762252e-06, 0.00040886440689635655, -6.160184207073123e-06, -6.160184201027995e-06, 0.00040886440689461446] \n",
      " et sa taille 160 en bits.\n"
     ]
    }
   ],
   "source": [
    "S1 = A1*np.sin(2*np.pi*fp1*t_son)          # Porteuse du bit  1  \n",
    "S2 = A2*np.sin(2*np.pi*fp2*t_son)          # Porteuse du bits 0 \n",
    "\n",
    "bit1= data*S1                           # Multiplier le signal modulé par la signal de la porteuse S1 (bit 1)\n",
    "bit0= data*S2                           # Multiplier le signal modulé par la signal de la porteuse S2 (bit 0)\n",
    "\n",
    "# Intégration des 2 résultats bit1 et bit0 sur période de T =[0, Ns], Ns: taille du symbole envoyé \n",
    "# par la méthode des Trapèzes (fonction numpy.trapz en Python) (l'approche la plus simple).\n",
    "\n",
    "y1= []                                 # Résulat de l'intégration du bit1                            \n",
    "y2= []                                 # Résulat de l'intégration du bit0  (ou bit-1 si NRZ)\n",
    "i=0\n",
    "for i in range(0,N,Ns):\n",
    "    y1.append (np.trapz(bit1[i:i+Ns],t_son[i:i+Ns]))\n",
    "    y2.append(np.trapz(bit0[i:i+Ns],t_son[i:i+Ns]))\n",
    "    \n",
    "print(\"Voici les données que l'on reçoit du fichier son ouvert:\\n\",y1,\"\\n et sa taille\",len(y1),\"en bits.\\n\")\n",
    "print(\"Voici les données que l'on reçoit du fichier son ouvert:\\n\",y2,\"\\n et sa taille\",len(y2),\"en bits.\")"
   ]
  },
  {
   "cell_type": "markdown",
   "metadata": {},
   "source": [
    "### iii. Comparateur et décodage du signal binaire"
   ]
  },
  {
   "cell_type": "code",
   "execution_count": 44,
   "metadata": {},
   "outputs": [
    {
     "name": "stdout",
     "output_type": "stream",
     "text": [
      "Voici alors le message décodé : [1, -1, -1, 1, -1, 1, -1, 1, -1, 1, -1, 1, -1, 1, 1, -1, -1, 1, -1, 1, -1, 1, -1, 1, -1, 1, -1, 1, -1, 1, -1, 1, 1, -1, 1, -1, 1, -1, 1, -1, 1, -1, 1, -1, -1, 1, -1, 1, 1, -1, 1, -1, 1, -1, 1, -1, 1, -1, 1, -1, 1, -1, 1, -1, 1, -1, -1, 1, 1, -1, -1, 1, 1, -1, 1, -1, -1, 1, -1, 1, 1, -1, -1, 1, -1, 1, 1, -1, 1, -1, 1, -1, 1, -1, -1, 1, 1, -1, -1, 1, -1, 1, 1, -1, -1, 1, -1, 1, 1, -1, 1, -1, 1, -1, -1, 1, -1, 1, -1, 1, 1, -1, -1, 1, 1, -1, -1, 1, 1, -1, -1, 1, -1, 1, -1, 1, 1, -1, -1, 1, 1, -1, 1, -1, 1, -1, -1, 1, -1, 1, -1, 1, -1, 1, -1, 1, -1, 1, 1, -1] avec une taile de 160 bits.\n"
     ]
    }
   ],
   "source": [
    "# si y1> y2 donc on a reçu un 1 (True) sinon un 0 (False)\n",
    "comparateur= (np.array(y1) > np.array(y2))\n",
    "\n",
    "# liste pour stocker le message démodulé\n",
    "message_demodule_FSK= []\n",
    "\n",
    "for ii in range (0,len(comparateur)):\n",
    "    if comparateur [ii] == False:\n",
    "        message_demodule_FSK.extend([int(-1)]) \n",
    "    if comparateur [ii] == True:\n",
    "         message_demodule_FSK.extend([int(1)]) \n",
    "        \n",
    "print(\"Voici alors le message décodé :\",message_demodule_FSK,\"avec une taile de\",len(message_demodule_FSK),\"bits.\")"
   ]
  },
  {
   "cell_type": "markdown",
   "metadata": {},
   "source": [
    "### iv. Décodage Manchester du message reçu (Manchester vers binaire)"
   ]
  },
  {
   "cell_type": "code",
   "execution_count": 45,
   "metadata": {},
   "outputs": [
    {
     "name": "stdout",
     "output_type": "stream",
     "text": [
      "[0, 1, 1, 1, 1, 1, 1, 0, 1, 1, 1, 1, 1, 1, 1, 1, 0, 0, 0, 0, 0, 0, 1, 1, 0, 0, 0, 0, 0, 0, 0, 0, 0, 1, 0, 1, 0, 0, 1, 1, 0, 1, 1, 0, 0, 0, 0, 1, 0, 1, 1, 0, 1, 1, 0, 0, 0, 1, 1, 1, 0, 1, 0, 1, 0, 1, 1, 1, 0, 1, 0, 0, 0, 1, 1, 1, 1, 1, 1, 0]\n",
      "80\n"
     ]
    }
   ],
   "source": [
    "# conversion binaire en string (char)\n",
    "# On remet le message en suite 0 et 1 \n",
    "message_recu_bin = []\n",
    "\n",
    "for i in range(0,len(message_demodule_FSK),2):\n",
    "    if (message_demodule_FSK[i]==1 and message_demodule_FSK[i+1]==-1):\n",
    "        message_recu_bin.append(int(0))\n",
    "    elif (message_demodule_FSK[i]==-1 and message_demodule_FSK[i+1]==1):\n",
    "        message_recu_bin.append(int(1))\n",
    "\n",
    "print(message_recu_bin)\n",
    "print(len(message_recu_bin))"
   ]
  },
  {
   "cell_type": "markdown",
   "metadata": {},
   "source": [
    "### v. Conversion binaire vers ASCII"
   ]
  },
  {
   "cell_type": "code",
   "execution_count": 46,
   "metadata": {},
   "outputs": [
    {
     "name": "stdout",
     "output_type": "stream",
     "text": [
      "[0, 1, 0, 1, 0, 0, 1, 1, 0, 1, 1, 0, 0, 0, 0, 1, 0, 1, 1, 0, 1, 1, 0, 0, 0, 1, 1, 1, 0, 1, 0, 1, 0, 1, 1, 1, 0, 1, 0, 0]\n",
      "Le message reçu est :  Salut\n"
     ]
    }
   ],
   "source": [
    "donnees = message_recu_bin[32:(len(message_recu_bin)-8)]\n",
    "print(donnees)\n",
    "# Ecrire la suite binaire du message dans une chaine de caractères (char) (résultat sous la forme par exmeple '001010111'\n",
    "bin_data = \"\"\n",
    "for elem in donnees:  \n",
    "    bin_data += str(elem)\n",
    "\n",
    "# initialisation d'une chaîne vide pour stocker les données reçues\n",
    "data_reçu =' '\n",
    "\n",
    "# Fonction BinarytoDecimal() function (conversion bianire ==> décimal)\n",
    "def BinaryToDecimal(binary):  \n",
    "    binary1 = binary \n",
    "    decimal, i, n = 0, 0, 0 #initialisation des variables\n",
    "    \n",
    "    while(binary != 0): \n",
    "        dec = binary % 10\n",
    "        decimal = decimal + dec * pow(2, i) \n",
    "        binary = binary//10\n",
    "        i += 1\n",
    "    return (decimal)\n",
    "\n",
    "# Découper les données binaire d'entrée et la convertir en décimal puis la convertir en chaîne par bloc de 8 \n",
    "for i in range(0, len(bin_data), 8): \n",
    "    # découper le bin_data de la plage d'index [0, 7] (car une caractère ASCII est codé sur 7 bits) ett le stocker sous forme d'entier dans temp_data\n",
    "    temp_data = int(bin_data[i+1:i+8])\n",
    "    # Passer (temp_data) dans la fonction BinarytoDecimal ()\n",
    "    # pour obtenir la valeur décimale correspondante de (temp_data)\n",
    "    decimal_data = BinaryToDecimal(temp_data)\n",
    "    # Décodage de la valeur décimale renvoyée par la Fonction BinarytoDecimal (), en utilisant chr ()\n",
    "    #fonction qui renvoie la chaîne correspondante caractère pour une valeur ASCII donnée et enregistrez-le dans data_recu\n",
    "    data_reçu = data_reçu + chr(decimal_data) \n",
    "\n",
    "# Affichage du result \n",
    "print(\"Le message reçu est :\", data_reçu) "
   ]
  }
 ],
 "metadata": {
  "kernelspec": {
   "display_name": "Python 3",
   "language": "python",
   "name": "python3"
  },
  "language_info": {
   "codemirror_mode": {
    "name": "ipython",
    "version": 3
   },
   "file_extension": ".py",
   "mimetype": "text/x-python",
   "name": "python",
   "nbconvert_exporter": "python",
   "pygments_lexer": "ipython3",
   "version": "3.10.11"
  },
  "orig_nbformat": 4
 },
 "nbformat": 4,
 "nbformat_minor": 2
}
